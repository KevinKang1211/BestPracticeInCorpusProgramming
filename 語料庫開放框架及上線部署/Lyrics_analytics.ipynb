{
  "nbformat": 4,
  "nbformat_minor": 0,
  "metadata": {
    "colab": {
      "name": "Lyrics analytics.ipynb",
      "version": "0.3.2",
      "provenance": [],
      "collapsed_sections": [
        "ZFfaxhXRmpUE"
      ],
      "toc_visible": true
    },
    "kernelspec": {
      "name": "python3",
      "display_name": "Python 3"
    }
  },
  "cells": [
    {
      "metadata": {
        "id": "sMobv-abIp8P",
        "colab_type": "text"
      },
      "cell_type": "markdown",
      "source": [
        "# 語料分析流程：歌詞語料庫為例\n",
        "\n",
        "謝舒凱 連大成 洪漢唐 李智堯\n",
        "\n",
        "台大語言所 LOPE 實驗室"
      ]
    },
    {
      "metadata": {
        "id": "J2j_dwd_It2_",
        "colab_type": "text"
      },
      "cell_type": "markdown",
      "source": [
        "# Corpus Analytics Workflow\n",
        "\n",
        "- Data collection (**crawling**)\n",
        "- Data preprocessing (**cleaning** and **tokenization**)\n",
        "- Data tagging and parsing (**pos**, **dependency formalism**)\n",
        "- Exploratory data analysis (hypothesis formation via **statistics** and **visualization**)\n",
        "- Corpus **annotation**\n",
        "- Analysis and Application\n",
        "  - Corpus-based linguistic analysis\n",
        "  - Natural Language Processong/Machine Learning/AI applications"
      ]
    },
    {
      "metadata": {
        "id": "oaUY7xH8IzzC",
        "colab_type": "text"
      },
      "cell_type": "markdown",
      "source": [
        " ## Required Packages Installation\n"
      ]
    },
    {
      "metadata": {
        "id": "tDo4-Ol1Ifbf",
        "colab_type": "code",
        "outputId": "1f0b4a17-e271-4203-8569-3e67bce32147",
        "colab": {
          "base_uri": "https://localhost:8080/",
          "height": 794
        }
      },
      "cell_type": "code",
      "source": [
        "# Download some dependencies\n",
        "# !git clone https://github.com/ldkrsi/jieba-zh_TW.git jieba_tw\n",
        "!pip install opencc-python-reimplemented\n",
        "!pip install zhon\n",
        "!pip install jieba\n",
        "!pip install -U scikit-learn\n",
        "!pip install nltk\n",
        "!pip install jseg"
      ],
      "execution_count": 0,
      "outputs": [
        {
          "output_type": "stream",
          "text": [
            "Collecting opencc-python-reimplemented\n",
            "\u001b[?25l  Downloading https://files.pythonhosted.org/packages/1d/1a/0b99dee887eff942045785e6308c780ae9cfef481519faf1548aa872a5f0/opencc-python-reimplemented-0.1.4.tar.gz (484kB)\n",
            "\u001b[K    100% |████████████████████████████████| 491kB 13.7MB/s \n",
            "\u001b[?25hBuilding wheels for collected packages: opencc-python-reimplemented\n",
            "  Running setup.py bdist_wheel for opencc-python-reimplemented ... \u001b[?25l-\b \b\\\b \bdone\n",
            "\u001b[?25h  Stored in directory: /root/.cache/pip/wheels/04/a7/12/2da0450c5d1d0eded738a5cf3bf2743b728e94561d922660b1\n",
            "Successfully built opencc-python-reimplemented\n",
            "Installing collected packages: opencc-python-reimplemented\n",
            "Successfully installed opencc-python-reimplemented-0.1.4\n",
            "Collecting zhon\n",
            "\u001b[?25l  Downloading https://files.pythonhosted.org/packages/9f/b0/c56c6079ad47c35a2341440818b6620de8c46a265ed690a51b1a4e5591bc/zhon-1.1.5.tar.gz (99kB)\n",
            "\u001b[K    100% |████████████████████████████████| 102kB 4.5MB/s \n",
            "\u001b[?25hBuilding wheels for collected packages: zhon\n",
            "  Running setup.py bdist_wheel for zhon ... \u001b[?25l-\b \bdone\n",
            "\u001b[?25h  Stored in directory: /root/.cache/pip/wheels/0e/93/5a/ad2f403c359ba996e33c21bf18611d921413df9740ede2fcf4\n",
            "Successfully built zhon\n",
            "Installing collected packages: zhon\n",
            "Successfully installed zhon-1.1.5\n",
            "Requirement already satisfied: jieba in /usr/local/lib/python3.6/dist-packages (0.39)\n",
            "Requirement already up-to-date: scikit-learn in /usr/local/lib/python3.6/dist-packages (0.20.1)\n",
            "Requirement already satisfied, skipping upgrade: numpy>=1.8.2 in /usr/local/lib/python3.6/dist-packages (from scikit-learn) (1.14.6)\n",
            "Requirement already satisfied, skipping upgrade: scipy>=0.13.3 in /usr/local/lib/python3.6/dist-packages (from scikit-learn) (1.1.0)\n",
            "Requirement already satisfied: nltk in /usr/local/lib/python3.6/dist-packages (3.2.5)\n",
            "Requirement already satisfied: six in /usr/local/lib/python3.6/dist-packages (from nltk) (1.11.0)\n",
            "Collecting jseg\n",
            "\u001b[?25l  Downloading https://files.pythonhosted.org/packages/d4/a7/eff14d2c5fa5b640bbc022390896707e6c1e86c646e797878d84d3d9325f/jseg-0.0.4.tar.gz (1.9MB)\n",
            "\u001b[K    100% |████████████████████████████████| 1.9MB 2.3MB/s \n",
            "\u001b[?25hCollecting nltk==3.0.3 (from jseg)\n",
            "\u001b[?25l  Downloading https://files.pythonhosted.org/packages/69/3e/b5e0e0210931539a3f77e0537e2e462b929b019a723895bd69357ad20bc3/nltk-3.0.3.tar.gz (1.0MB)\n",
            "\u001b[K    100% |████████████████████████████████| 1.0MB 20.7MB/s \n",
            "\u001b[?25hRequirement already satisfied: six==1.11.0 in /usr/local/lib/python3.6/dist-packages (from jseg) (1.11.0)\n",
            "Building wheels for collected packages: jseg, nltk\n",
            "  Running setup.py bdist_wheel for jseg ... \u001b[?25l-\b \b\\\b \b|\b \bdone\n",
            "\u001b[?25h  Stored in directory: /root/.cache/pip/wheels/ee/a1/f2/5254906493c141ed52e24fb26f45b8c61ede34d70151cdb444\n",
            "  Running setup.py bdist_wheel for nltk ... \u001b[?25l-\b \b\\\b \b|\b \b/\b \b-\b \bdone\n",
            "\u001b[?25h  Stored in directory: /root/.cache/pip/wheels/10/00/e1/d56a2c06bb5d7c2ee66b193d53d892e98c17721d688584e8e0\n",
            "Successfully built jseg nltk\n",
            "\u001b[31mtextblob 0.15.2 has requirement nltk>=3.1, but you'll have nltk 3.0.3 which is incompatible.\u001b[0m\n",
            "Installing collected packages: nltk, jseg\n",
            "  Found existing installation: nltk 3.2.5\n",
            "    Uninstalling nltk-3.2.5:\n",
            "      Successfully uninstalled nltk-3.2.5\n",
            "Successfully installed jseg-0.0.4 nltk-3.0.3\n"
          ],
          "name": "stdout"
        }
      ]
    },
    {
      "metadata": {
        "id": "lB3FY69YJEqy",
        "colab_type": "text"
      },
      "cell_type": "markdown",
      "source": [
        "#  Corpus Data Ingestion 語料擷取 "
      ]
    },
    {
      "metadata": {
        "id": "62xUNWLWI2f4",
        "colab_type": "code",
        "outputId": "21096acb-2ed8-45b2-b18f-e0de735e8bf7",
        "colab": {
          "base_uri": "https://localhost:8080/",
          "height": 87
        }
      },
      "cell_type": "code",
      "source": [
        "from google.colab import files\n",
        "import re\n",
        "import json\n",
        "from pathlib import Path\n",
        "from jseg import Jieba\n",
        "from opencc import OpenCC\n",
        "from zhon import hanzi\n",
        "import string\n",
        "import nltk\n",
        "import io\n",
        "import csv\n",
        "import requests\n",
        "from bs4 import BeautifulSoup as bs\n",
        "nltk.download(\"averaged_perceptron_tagger\")"
      ],
      "execution_count": 0,
      "outputs": [
        {
          "output_type": "stream",
          "text": [
            "[nltk_data] Downloading package averaged_perceptron_tagger to\n",
            "[nltk_data]     /root/nltk_data...\n",
            "[nltk_data]   Unzipping taggers/averaged_perceptron_tagger.zip.\n"
          ],
          "name": "stdout"
        },
        {
          "output_type": "execute_result",
          "data": {
            "text/plain": [
              "True"
            ]
          },
          "metadata": {
            "tags": []
          },
          "execution_count": 3
        }
      ]
    },
    {
      "metadata": {
        "id": "znXeqYM6KJpF",
        "colab_type": "text"
      },
      "cell_type": "markdown",
      "source": [
        "## Lyrics Data Collection\n",
        "\n",
        "- 以爬取李宗盛的歌詞為例"
      ]
    },
    {
      "metadata": {
        "id": "mTCRY_B7Mq1V",
        "colab_type": "code",
        "colab": {}
      },
      "cell_type": "code",
      "source": [
        "SONG_REGEX = re.compile(r'\\n\\n(\\D+)\\n{2,4}', re.DOTALL | re.MULTILINE)\n",
        "\n",
        "HEADERS = {\n",
        "    'User-Agent': 'Mozilla/5.0 (X11; Linux x86_64) AppleWebKit/537.36 (KHTML, like Gecko) Chrome/51.0.2704.103 Safari/537.36'\n",
        "}\n",
        "sess = requests.Session()\n",
        "sess.headers.update(HEADERS)\n",
        "\n",
        "\n",
        "def get_song_rows(singer_link):\n",
        "    \"\"\"Provide a link to a singer's Mojim page. Returns a list of BeautifulSoup tags\"\"\"\n",
        "    if not singer_link.endswith('-A2.htm'):\n",
        "        singer_link = singer_link.replace('.htm', '-A2.htm')\n",
        "    soup = bs(sess.get(singer_link).text)\n",
        "    return soup.select('dd.hb2, dd.hb3')\n",
        "  \n",
        "  \n",
        "def get_song_attrs(rows):\n",
        "    \"\"\"\n",
        "      Provide a list of BeautifulSoup tags containing information such as a link to a song's lyrics, \n",
        "      title, and release time. Returns a list of dictionaries containing the aforementioned information.\n",
        "    \"\"\"\n",
        "    song_attrs_list = []\n",
        "    visited = set()  # keep track of songs\n",
        "    BASE_URL = \"http://mojim.com\"\n",
        "    for row in rows:\n",
        "        link = BASE_URL+row.select('span.hc1 a')[0].attrs['href']\n",
        "        title = row.select('span.hc1 a')[0].text\n",
        "        time = row.select('span.hc4')[0].text\n",
        "        if title in visited:\n",
        "            print(f'{title} already exists.')\n",
        "            continue\n",
        "        song_attrs_list.append({'link': link, 'title': title, 'time': time})\n",
        "        visited.add(title)\n",
        "    print(f'{len(song_attrs_list)} unique songs found.')\n",
        "    return song_attrs_list\n",
        "\n",
        "def get_song_lyrics(song_dicts):\n",
        "    \"\"\"Provide a dictionary containing song information. Returns the song's lyrics.\"\"\"\n",
        "    total = len(song_dicts)\n",
        "    errors = []\n",
        "    for idx, song_dict in enumerate(song_dicts, 1):\n",
        "        link = song_dict['link']\n",
        "        r = sess.get(link).text\n",
        "        soup = bs(r, 'html5lib')\n",
        "        try:\n",
        "          soup = str(soup.select('dl.fsZx1')[0])\n",
        "        except IndexError:\n",
        "          continue\n",
        "        else:\n",
        "          # remove link\n",
        "          soup = soup.replace(\n",
        "              r'<br/>更多更詳盡歌詞 在 <a href=\"http://mojim.com\">※ Mojim.com　魔鏡歌詞網</a><br/>', '')\n",
        "          soup = soup.replace('<br/>', '\\n')\n",
        "          matches = SONG_REGEX.search(soup.strip())\n",
        "          try:\n",
        "            match = matches[1].strip()\n",
        "            match = SONG_REGEX.search(match)[1]\n",
        "            match = re.sub(r'\\n更多更詳盡歌詞 在 ※ Mojim.com\\u3000魔鏡歌詞網 ', '', match)\n",
        "          except TypeError as e:\n",
        "            print(e)\n",
        "            print(song_dict)\n",
        "            errors.append({'error': e, 'song': song_dict})\n",
        "            continue\n",
        "          else:\n",
        "            song_dict['lyrics'] = match\n",
        "          if idx % 25 == 0:\n",
        "              print(f'{idx} of {total} complete')\n",
        "    print('Done!')\n",
        "\n",
        "\n",
        "def save(song_dict_list, filename):\n",
        "    with open(filename, 'w') as fp:\n",
        "        json.dump(song_dict_list, fp, ensure_ascii=False)\n",
        "  \n"
      ],
      "execution_count": 0,
      "outputs": []
    },
    {
      "metadata": {
        "id": "nqnPPCHxNpp7",
        "colab_type": "code",
        "outputId": "f6e6c75b-47b4-4990-da94-1c3b2bb83f42",
        "colab": {
          "base_uri": "https://localhost:8080/",
          "height": 4437
        }
      },
      "cell_type": "code",
      "source": [
        "rows = get_song_rows('http://mojim.com/twh100041-A2.htm')  # Mojim singer's page\n",
        "song_attrs = get_song_attrs(rows)\n",
        "get_song_lyrics(song_attrs)\n",
        "save(song_attrs, 'lyrics.json')"
      ],
      "execution_count": 0,
      "outputs": [
        {
          "output_type": "stream",
          "text": [
            "DEBUG:urllib3.connectionpool:Starting new HTTP connection (1): mojim.com\n",
            "DEBUG:urllib3.connectionpool:http://mojim.com:80 \"GET /twh100041-A2.htm HTTP/1.1\" 200 7148\n",
            "DEBUG:urllib3.connectionpool:http://mojim.com:80 \"GET /twy100041x3x9.htm HTTP/1.1\" 200 5205\n"
          ],
          "name": "stderr"
        },
        {
          "output_type": "stream",
          "text": [
            "飛 already exists.\n",
            "問 already exists.\n",
            "希望 already exists.\n",
            "希望 already exists.\n",
            "遠行 already exists.\n",
            "領悟 already exists.\n",
            "凡人歌 already exists.\n",
            "凡人歌 already exists.\n",
            "忙與盲 already exists.\n",
            "因為寂寞 already exists.\n",
            "因為寂寞 already exists.\n",
            "鬼迷心竅 already exists.\n",
            "寂寞難耐 already exists.\n",
            "寂寞難耐 already exists.\n",
            "傷心地鐵 already exists.\n",
            "愛情少尉 already exists.\n",
            "愛的代價 already exists.\n",
            "夢醒時分 already exists.\n",
            "你像個孩子 already exists.\n",
            "你像個孩子 already exists.\n",
            "我有話要說 already exists.\n",
            "風櫃來的人 already exists.\n",
            "生命中的精靈 already exists.\n",
            "生命中的精靈 already exists.\n",
            "如果你要離去 already exists.\n",
            "我是真的愛你 already exists.\n",
            "我是真的愛你 already exists.\n",
            "當愛已成往事 already exists.\n",
            "和自己賽跑的人 already exists.\n",
            "給所有單身女子 already exists.\n",
            "飛 already exists.\n",
            "飛 already exists.\n",
            "飛 already exists.\n",
            "問 already exists.\n",
            "山丘 already exists.\n",
            "希望 already exists.\n",
            "希望 already exists.\n",
            "希望 already exists.\n",
            "陰天 already exists.\n",
            "遠行 already exists.\n",
            "遠行 already exists.\n",
            "領悟 already exists.\n",
            "領悟 already exists.\n",
            "一個人 already exists.\n",
            "一個人 already exists.\n",
            "七點鐘 already exists.\n",
            "十二樓 already exists.\n",
            "凡人歌 already exists.\n",
            "凡人歌 already exists.\n",
            "凡人歌 already exists.\n",
            "再回首 already exists.\n",
            "忙與盲 already exists.\n",
            "開場白 already exists.\n",
            "開場白 already exists.\n",
            "因為寂寞 already exists.\n",
            "因為寂寞 already exists.\n",
            "因為寂寞 already exists.\n",
            "如風往事 already exists.\n",
            "如風往事 already exists.\n",
            "油麻菜籽 already exists.\n",
            "鬼迷心竅 already exists.\n",
            "鬼迷心竅 already exists.\n",
            "鬼迷心竅 already exists.\n",
            "寂寞難耐 already exists.\n",
            "寂寞難耐 already exists.\n",
            "寂寞難耐 already exists.\n",
            "傷心地鐵 already exists.\n",
            "傷心地鐵 already exists.\n",
            "愛情少尉 already exists.\n",
            "愛情少尉 already exists.\n",
            "愛的代價 already exists.\n",
            "愛的代價 already exists.\n",
            "愛的代價 already exists.\n",
            "夢醒時分 already exists.\n",
            "誘惑的街 already exists.\n",
            "你像個孩子 already exists.\n",
            "你像個孩子 already exists.\n",
            "你像個孩子 already exists.\n",
            "我一個人住 already exists.\n",
            "我有話要說 already exists.\n",
            "我有話要說 already exists.\n",
            "沒有人知道 already exists.\n",
            "阿宗三件事 already exists.\n",
            "風櫃來的人 already exists.\n",
            "風櫃來的人 already exists.\n",
            "最近比較煩 already exists.\n",
            "生命中的精靈 already exists.\n",
            "生命中的精靈 already exists.\n",
            "生命中的精靈 already exists.\n",
            "生命中的精靈 already exists.\n",
            "如果你要離去 already exists.\n",
            "如果你要離去 already exists.\n",
            "我是真的愛你 already exists.\n",
            "我是真的愛你 already exists.\n",
            "我是真的愛你 already exists.\n",
            "當愛已成往事 already exists.\n",
            "當愛已成往事 already exists.\n",
            "小鎮醫生的故事 already exists.\n",
            "小鎮醫生的故事 already exists.\n",
            "我是一隻小小鳥 already exists.\n",
            "我是一隻小小鳥 already exists.\n",
            "和自己賽跑的人 already exists.\n",
            "和自己賽跑的人 already exists.\n",
            "為你我受冷風吹 already exists.\n",
            "這樣愛你對不對 already exists.\n",
            "這樣愛你對不對 already exists.\n",
            "給所有單身女子 already exists.\n",
            "愛情有什麼道理 already exists.\n",
            "飄洋過海來看你 already exists.\n",
            "飄洋過海來看你 already exists.\n",
            "十七歲女生的溫柔 already exists.\n",
            "十七歲女生的溫柔 already exists.\n",
            "聽見有人叫你寶貝 already exists.\n",
            "我的未來，我的家，我的妻 already exists.\n",
            "102 unique songs found.\n"
          ],
          "name": "stdout"
        },
        {
          "output_type": "stream",
          "text": [
            "DEBUG:urllib3.connectionpool:http://mojim.com:80 \"GET /twy100041x13x4.htm HTTP/1.1\" 200 5369\n",
            "DEBUG:urllib3.connectionpool:http://mojim.com:80 \"GET /twy100041x16x24.htm HTTP/1.1\" 200 6180\n",
            "DEBUG:urllib3.connectionpool:http://mojim.com:80 \"GET /twy100041x16x22.htm HTTP/1.1\" 200 6555\n"
          ],
          "name": "stderr"
        },
        {
          "output_type": "stream",
          "text": [
            "'NoneType' object is not subscriptable\n",
            "{'link': 'http://mojim.com/twy100041x16x24.htm', 'title': '問', 'time': '2016-11'}\n"
          ],
          "name": "stdout"
        },
        {
          "output_type": "stream",
          "text": [
            "DEBUG:urllib3.connectionpool:http://mojim.com:80 \"GET /twy100041x6x10.htm HTTP/1.1\" 200 4963\n",
            "DEBUG:urllib3.connectionpool:http://mojim.com:80 \"GET /twy100041x11x4.htm HTTP/1.1\" 200 6109\n",
            "DEBUG:urllib3.connectionpool:http://mojim.com:80 \"GET /twy100041x12x14.htm HTTP/1.1\" 200 5833\n",
            "DEBUG:urllib3.connectionpool:http://mojim.com:80 \"GET /twy100041x1x3.htm HTTP/1.1\" 200 5354\n",
            "DEBUG:urllib3.connectionpool:http://mojim.com:80 \"GET /twy100041x16x7.htm HTTP/1.1\" 200 5975\n",
            "DEBUG:urllib3.connectionpool:http://mojim.com:80 \"GET /twy100041x12x12.htm HTTP/1.1\" 200 5835\n",
            "DEBUG:urllib3.connectionpool:http://mojim.com:80 \"GET /twy100041x10x23.htm HTTP/1.1\" 200 6915\n",
            "DEBUG:urllib3.connectionpool:http://mojim.com:80 \"GET /twy100041x11x2.htm HTTP/1.1\" 200 4668\n",
            "DEBUG:urllib3.connectionpool:http://mojim.com:80 \"GET /twy100041x2x26.htm HTTP/1.1\" 200 5712\n",
            "DEBUG:urllib3.connectionpool:http://mojim.com:80 \"GET /twy100041x10x16.htm HTTP/1.1\" 200 5963\n",
            "DEBUG:urllib3.connectionpool:http://mojim.com:80 \"GET /twy100041x12x11.htm HTTP/1.1\" 200 5605\n"
          ],
          "name": "stderr"
        },
        {
          "output_type": "stream",
          "text": [
            "'NoneType' object is not subscriptable\n",
            "{'link': 'http://mojim.com/twy100041x10x16.htm', 'title': '遠行', 'time': '2004-08'}\n"
          ],
          "name": "stdout"
        },
        {
          "output_type": "stream",
          "text": [
            "DEBUG:urllib3.connectionpool:http://mojim.com:80 \"GET /twy100041x13x1.htm HTTP/1.1\" 200 5226\n",
            "DEBUG:urllib3.connectionpool:http://mojim.com:80 \"GET /twy100041x2x29.htm HTTP/1.1\" 200 5775\n",
            "DEBUG:urllib3.connectionpool:http://mojim.com:80 \"GET /twy100041x16x6.htm HTTP/1.1\" 200 5883\n",
            "DEBUG:urllib3.connectionpool:http://mojim.com:80 \"GET /twy100041x16x26.htm HTTP/1.1\" 200 5609\n",
            "DEBUG:urllib3.connectionpool:http://mojim.com:80 \"GET /twy100041x8x8.htm HTTP/1.1\" 200 5429\n",
            "DEBUG:urllib3.connectionpool:http://mojim.com:80 \"GET /twy100041x16x16.htm HTTP/1.1\" 200 5599\n",
            "DEBUG:urllib3.connectionpool:http://mojim.com:80 \"GET /twy100041x10x33.htm HTTP/1.1\" 200 6325\n",
            "DEBUG:urllib3.connectionpool:http://mojim.com:80 \"GET /twy100041x6x8.htm HTTP/1.1\" 200 4634\n",
            "DEBUG:urllib3.connectionpool:http://mojim.com:80 \"GET /twy100041x10x28.htm HTTP/1.1\" 200 5873\n",
            "DEBUG:urllib3.connectionpool:http://mojim.com:80 \"GET /twy100041x6x9.htm HTTP/1.1\" 200 5621\n",
            "DEBUG:urllib3.connectionpool:http://mojim.com:80 \"GET /twy100041x10x21.htm HTTP/1.1\" 200 6466\n"
          ],
          "name": "stderr"
        },
        {
          "output_type": "stream",
          "text": [
            "25 of 102 complete\n"
          ],
          "name": "stdout"
        },
        {
          "output_type": "stream",
          "text": [
            "DEBUG:urllib3.connectionpool:http://mojim.com:80 \"GET /twy100041x8x5.htm HTTP/1.1\" 200 5968\n",
            "DEBUG:urllib3.connectionpool:http://mojim.com:80 \"GET /twy100041x1x4.htm HTTP/1.1\" 200 5669\n",
            "DEBUG:urllib3.connectionpool:http://mojim.com:80 \"GET /twy100041x10x30.htm HTTP/1.1\" 200 6512\n",
            "DEBUG:urllib3.connectionpool:http://mojim.com:80 \"GET /twy100041x7x1.htm HTTP/1.1\" 200 5122\n",
            "DEBUG:urllib3.connectionpool:http://mojim.com:80 \"GET /twy100041x12x6.htm HTTP/1.1\" 200 6206\n",
            "DEBUG:urllib3.connectionpool:http://mojim.com:80 \"GET /twy100041x10x13.htm HTTP/1.1\" 200 5852\n",
            "DEBUG:urllib3.connectionpool:http://mojim.com:80 \"GET /twy100041x16x9.htm HTTP/1.1\" 200 5644\n",
            "DEBUG:urllib3.connectionpool:http://mojim.com:80 \"GET /twy100041x11x3.htm HTTP/1.1\" 200 5178\n",
            "DEBUG:urllib3.connectionpool:http://mojim.com:80 \"GET /twy100041x13x12.htm HTTP/1.1\" 200 5537\n",
            "DEBUG:urllib3.connectionpool:http://mojim.com:80 \"GET /twy100041x7x2.htm HTTP/1.1\" 200 4875\n",
            "DEBUG:urllib3.connectionpool:http://mojim.com:80 \"GET /twy100041x13x14.htm HTTP/1.1\" 200 5368\n",
            "DEBUG:urllib3.connectionpool:http://mojim.com:80 \"GET /twy100041x16x20.htm HTTP/1.1\" 200 5517\n",
            "DEBUG:urllib3.connectionpool:http://mojim.com:80 \"GET /twy100041x10x27.htm HTTP/1.1\" 200 6837\n",
            "DEBUG:urllib3.connectionpool:http://mojim.com:80 \"GET /twy100041x7x4.htm HTTP/1.1\" 200 4928\n",
            "DEBUG:urllib3.connectionpool:http://mojim.com:80 \"GET /twy100041x9x2.htm HTTP/1.1\" 200 5605\n",
            "DEBUG:urllib3.connectionpool:http://mojim.com:80 \"GET /twy100041x16x18.htm HTTP/1.1\" 200 5768\n"
          ],
          "name": "stderr"
        },
        {
          "output_type": "stream",
          "text": [
            "'NoneType' object is not subscriptable\n",
            "{'link': 'http://mojim.com/twy100041x9x2.htm', 'title': '不捨的牽絆', 'time': '1994-06'}\n"
          ],
          "name": "stdout"
        },
        {
          "output_type": "stream",
          "text": [
            "DEBUG:urllib3.connectionpool:http://mojim.com:80 \"GET /twy100041x10x3.htm HTTP/1.1\" 200 5742\n",
            "DEBUG:urllib3.connectionpool:http://mojim.com:80 \"GET /twy100041x10x32.htm HTTP/1.1\" 200 5681\n",
            "DEBUG:urllib3.connectionpool:http://mojim.com:80 \"GET /twy100041x10x6.htm HTTP/1.1\" 200 5916\n",
            "DEBUG:urllib3.connectionpool:http://mojim.com:80 \"GET /twy100041x10x5.htm HTTP/1.1\" 200 5506\n",
            "DEBUG:urllib3.connectionpool:http://mojim.com:80 \"GET /twy100041x16x17.htm HTTP/1.1\" 200 5803\n"
          ],
          "name": "stderr"
        },
        {
          "output_type": "stream",
          "text": [
            "'NoneType' object is not subscriptable\n",
            "{'link': 'http://mojim.com/twy100041x10x5.htm', 'title': '沒有人知道', 'time': '2004-08'}\n"
          ],
          "name": "stdout"
        },
        {
          "output_type": "stream",
          "text": [
            "DEBUG:urllib3.connectionpool:http://mojim.com:80 \"GET /twy100041x11x5.htm HTTP/1.1\" 200 5309\n",
            "DEBUG:urllib3.connectionpool:http://mojim.com:80 \"GET /twy100041x11x1.htm HTTP/1.1\" 200 5048\n",
            "DEBUG:urllib3.connectionpool:http://mojim.com:80 \"GET /twy100041x3x4.htm HTTP/1.1\" 200 5016\n",
            "DEBUG:urllib3.connectionpool:http://mojim.com:80 \"GET /twy100041x5x2.htm HTTP/1.1\" 200 6034\n"
          ],
          "name": "stderr"
        },
        {
          "output_type": "stream",
          "text": [
            "'NoneType' object is not subscriptable\n",
            "{'link': 'http://mojim.com/twy100041x3x4.htm', 'title': '風櫃來的人', 'time': '1986-01'}\n"
          ],
          "name": "stdout"
        },
        {
          "output_type": "stream",
          "text": [
            "DEBUG:urllib3.connectionpool:http://mojim.com:80 \"GET /twy100041x16x29.htm HTTP/1.1\" 200 6141\n",
            "DEBUG:urllib3.connectionpool:http://mojim.com:80 \"GET /twy100041x10x31.htm HTTP/1.1\" 200 5877\n",
            "DEBUG:urllib3.connectionpool:http://mojim.com:80 \"GET /twy100041x12x1.htm HTTP/1.1\" 200 5219\n",
            "DEBUG:urllib3.connectionpool:http://mojim.com:80 \"GET /twy100041x12x4.htm HTTP/1.1\" 200 5116\n",
            "DEBUG:urllib3.connectionpool:http://mojim.com:80 \"GET /twy100041x16x10.htm HTTP/1.1\" 200 5997\n",
            "DEBUG:urllib3.connectionpool:http://mojim.com:80 \"GET /twy100041x16x25.htm HTTP/1.1\" 200 6034\n",
            "DEBUG:urllib3.connectionpool:http://mojim.com:80 \"GET /twy100041x10x22.htm HTTP/1.1\" 200 7055\n"
          ],
          "name": "stderr"
        },
        {
          "output_type": "stream",
          "text": [
            "'NoneType' object is not subscriptable\n",
            "{'link': 'http://mojim.com/twy100041x16x25.htm', 'title': '寂寞的戀人啊', 'time': '2016-11'}\n"
          ],
          "name": "stdout"
        },
        {
          "output_type": "stream",
          "text": [
            "DEBUG:urllib3.connectionpool:http://mojim.com:80 \"GET /twy100041x7x8.htm HTTP/1.1\" 200 5066\n",
            "DEBUG:urllib3.connectionpool:http://mojim.com:80 \"GET /twy100041x16x4.htm HTTP/1.1\" 200 5901\n",
            "DEBUG:urllib3.connectionpool:http://mojim.com:80 \"GET /twy100041x7x10.htm HTTP/1.1\" 200 4933\n",
            "DEBUG:urllib3.connectionpool:http://mojim.com:80 \"GET /twy100041x13x6.htm HTTP/1.1\" 200 5525\n"
          ],
          "name": "stderr"
        },
        {
          "output_type": "stream",
          "text": [
            "'NoneType' object is not subscriptable\n",
            "{'link': 'http://mojim.com/twy100041x7x10.htm', 'title': '那一夜你喝了酒', 'time': '1989-01'}\n"
          ],
          "name": "stdout"
        },
        {
          "output_type": "stream",
          "text": [
            "DEBUG:urllib3.connectionpool:http://mojim.com:80 \"GET /twy100041x12x7.htm HTTP/1.1\" 200 5365\n",
            "DEBUG:urllib3.connectionpool:http://mojim.com:80 \"GET /twy100041x7x3.htm HTTP/1.1\" 200 5406\n",
            "DEBUG:urllib3.connectionpool:http://mojim.com:80 \"GET /twy100041x12x8.htm HTTP/1.1\" 200 5360\n",
            "DEBUG:urllib3.connectionpool:http://mojim.com:80 \"GET /twy100041x2x20.htm HTTP/1.1\" 200 5706\n",
            "DEBUG:urllib3.connectionpool:http://mojim.com:80 \"GET /twy100041x8x12.htm HTTP/1.1\" 200 5285\n",
            "DEBUG:urllib3.connectionpool:http://mojim.com:80 \"GET /twy100041x7x5.htm HTTP/1.1\" 200 5426\n",
            "DEBUG:urllib3.connectionpool:http://mojim.com:80 \"GET /twy100041x13x2.htm HTTP/1.1\" 200 5393\n",
            "DEBUG:urllib3.connectionpool:http://mojim.com:80 \"GET /twy100041x2x24.htm HTTP/1.1\" 200 5932\n",
            "DEBUG:urllib3.connectionpool:http://mojim.com:80 \"GET /twy100041x10x25.htm HTTP/1.1\" 200 6932\n",
            "DEBUG:urllib3.connectionpool:http://mojim.com:80 \"GET /twy100041x16x13.htm HTTP/1.1\" 200 4926\n",
            "DEBUG:urllib3.connectionpool:http://mojim.com:80 \"GET /twy100041x15x1.htm HTTP/1.1\" 200 4914\n"
          ],
          "name": "stderr"
        },
        {
          "output_type": "stream",
          "text": [
            "'NoneType' object is not subscriptable\n",
            "{'link': 'http://mojim.com/twy100041x16x13.htm', 'title': '讓我歡喜讓我憂(OT :OTOKOTO ONNA)', 'time': '2016-11'}\n"
          ],
          "name": "stdout"
        },
        {
          "output_type": "stream",
          "text": [
            "DEBUG:urllib3.connectionpool:http://mojim.com:80 \"GET /twy100041x6x2.htm HTTP/1.1\" 200 5034\n",
            "DEBUG:urllib3.connectionpool:http://mojim.com:80 \"GET /twy100041x10x10.htm HTTP/1.1\" 200 5718\n",
            "DEBUG:urllib3.connectionpool:http://mojim.com:80 \"GET /twy100041x12x3.htm HTTP/1.1\" 200 5376\n"
          ],
          "name": "stderr"
        },
        {
          "output_type": "stream",
          "text": [
            "75 of 102 complete\n"
          ],
          "name": "stdout"
        },
        {
          "output_type": "stream",
          "text": [
            "DEBUG:urllib3.connectionpool:http://mojim.com:80 \"GET /twy100041x8x11.htm HTTP/1.1\" 200 5633\n",
            "DEBUG:urllib3.connectionpool:http://mojim.com:80 \"GET /twy100041x12x2.htm HTTP/1.1\" 200 5647\n",
            "DEBUG:urllib3.connectionpool:http://mojim.com:80 \"GET /twy100041x3x11.htm HTTP/1.1\" 200 5308\n",
            "DEBUG:urllib3.connectionpool:http://mojim.com:80 \"GET /twy100041x2x22.htm HTTP/1.1\" 200 5597\n",
            "DEBUG:urllib3.connectionpool:http://mojim.com:80 \"GET /twy100041x16x27.htm HTTP/1.1\" 200 6702\n",
            "DEBUG:urllib3.connectionpool:http://mojim.com:80 \"GET /twy100041x2x21.htm HTTP/1.1\" 200 6064\n"
          ],
          "name": "stderr"
        },
        {
          "output_type": "stream",
          "text": [
            "'NoneType' object is not subscriptable\n",
            "{'link': 'http://mojim.com/twy100041x16x27.htm', 'title': '你們', 'time': '2016-11'}\n"
          ],
          "name": "stdout"
        },
        {
          "output_type": "stream",
          "text": [
            "DEBUG:urllib3.connectionpool:http://mojim.com:80 \"GET /twy100041x10x34.htm HTTP/1.1\" 200 6142\n",
            "DEBUG:urllib3.connectionpool:http://mojim.com:80 \"GET /twy100041x10x24.htm HTTP/1.1\" 200 6203\n"
          ],
          "name": "stderr"
        },
        {
          "output_type": "stream",
          "text": [
            "'NoneType' object is not subscriptable\n",
            "{'link': 'http://mojim.com/twy100041x10x34.htm', 'title': '寂寞', 'time': '2004-08'}\n"
          ],
          "name": "stdout"
        },
        {
          "output_type": "stream",
          "text": [
            "DEBUG:urllib3.connectionpool:http://mojim.com:80 \"GET /twy100041x4x1.htm HTTP/1.1\" 200 5412\n",
            "DEBUG:urllib3.connectionpool:http://mojim.com:80 \"GET /twy100041x4x7.htm HTTP/1.1\" 200 5161\n",
            "DEBUG:urllib3.connectionpool:http://mojim.com:80 \"GET /twy100041x2x16.htm HTTP/1.1\" 200 6462\n",
            "DEBUG:urllib3.connectionpool:http://mojim.com:80 \"GET /twy100041x7x9.htm HTTP/1.1\" 200 5153\n"
          ],
          "name": "stderr"
        },
        {
          "output_type": "stream",
          "text": [
            "'NoneType' object is not subscriptable\n",
            "{'link': 'http://mojim.com/twy100041x2x16.htm', 'title': '大地之歌', 'time': '1999-11'}\n"
          ],
          "name": "stdout"
        },
        {
          "output_type": "stream",
          "text": [
            "DEBUG:urllib3.connectionpool:http://mojim.com:80 \"GET /twy100041x13x15.htm HTTP/1.1\" 200 5539\n",
            "DEBUG:urllib3.connectionpool:http://mojim.com:80 \"GET /twy100041x3x13.htm HTTP/1.1\" 200 5509\n",
            "DEBUG:urllib3.connectionpool:http://mojim.com:80 \"GET /twy100041x12x13.htm HTTP/1.1\" 200 5855\n",
            "DEBUG:urllib3.connectionpool:http://mojim.com:80 \"GET /twy100041x9x10.htm HTTP/1.1\" 200 5353\n",
            "DEBUG:urllib3.connectionpool:http://mojim.com:80 \"GET /twy100041x2x25.htm HTTP/1.1\" 200 5508\n"
          ],
          "name": "stderr"
        },
        {
          "output_type": "stream",
          "text": [
            "'NoneType' object is not subscriptable\n",
            "{'link': 'http://mojim.com/twy100041x9x10.htm', 'title': '由衷的感謝', 'time': '1994-06'}\n"
          ],
          "name": "stdout"
        },
        {
          "output_type": "stream",
          "text": [
            "DEBUG:urllib3.connectionpool:http://mojim.com:80 \"GET /twy100041x2x13.htm HTTP/1.1\" 200 5686\n",
            "DEBUG:urllib3.connectionpool:http://mojim.com:80 \"GET /twy100041x2x27.htm HTTP/1.1\" 200 5676\n"
          ],
          "name": "stderr"
        },
        {
          "output_type": "stream",
          "text": [
            "'NoneType' object is not subscriptable\n",
            "{'link': 'http://mojim.com/twy100041x2x13.htm', 'title': '始終只愛你', 'time': '1999-11'}\n"
          ],
          "name": "stdout"
        },
        {
          "output_type": "stream",
          "text": [
            "DEBUG:urllib3.connectionpool:http://mojim.com:80 \"GET /twy100041x17x1.htm HTTP/1.1\" 200 6657\n",
            "DEBUG:urllib3.connectionpool:http://mojim.com:80 \"GET /twy100041x16x8.htm HTTP/1.1\" 200 6381\n",
            "DEBUG:urllib3.connectionpool:http://mojim.com:80 \"GET /twy100041x12x15.htm HTTP/1.1\" 200 5598\n",
            "DEBUG:urllib3.connectionpool:http://mojim.com:80 \"GET /twy100041x3x12.htm HTTP/1.1\" 200 5459\n",
            "DEBUG:urllib3.connectionpool:http://mojim.com:80 \"GET /twy100041x4x6.htm HTTP/1.1\" 200 5157\n",
            "DEBUG:urllib3.connectionpool:Resetting dropped connection: mojim.com\n",
            "DEBUG:urllib3.connectionpool:http://mojim.com:80 \"GET /twy100041x7x6.htm HTTP/1.1\" 200 5474\n"
          ],
          "name": "stderr"
        },
        {
          "output_type": "stream",
          "text": [
            "100 of 102 complete\n"
          ],
          "name": "stdout"
        },
        {
          "output_type": "stream",
          "text": [
            "DEBUG:urllib3.connectionpool:http://mojim.com:80 \"GET /twy100041x16x12.htm HTTP/1.1\" 200 6742\n"
          ],
          "name": "stderr"
        },
        {
          "output_type": "stream",
          "text": [
            "Done!\n"
          ],
          "name": "stdout"
        }
      ]
    },
    {
      "metadata": {
        "id": "en-6-obvOMQ5",
        "colab_type": "text"
      },
      "cell_type": "markdown",
      "source": [
        "## Lyrics data preprocessing"
      ]
    },
    {
      "metadata": {
        "id": "8XExv1087amw",
        "colab_type": "code",
        "outputId": "92e6fa7b-0ed1-49d6-a875-8344677ed480",
        "colab": {
          "base_uri": "https://localhost:8080/",
          "height": 125
        }
      },
      "cell_type": "code",
      "source": [
        "user_dict = requests.get('https://raw.githubusercontent.com/lopentu/BestPracticeInCorpusProgramming/master/%E8%AA%9E%E6%96%99%E5%BA%AB%E8%B3%87%E6%96%99%E5%89%8D%E8%99%95%E7%90%86/dict.txt.big')\n",
        "user_dict = io.StringIO(user_dict.text)\n",
        "j = Jieba()\n",
        "j.add_guaranteed_wordlist(user_dict)\n",
        "  \n",
        "STOPWORDS = requests.get('https://raw.githubusercontent.com/lopentu/BestPracticeInCorpusProgramming/master/%E8%AA%9E%E6%96%99%E5%BA%AB%E8%B3%87%E6%96%99%E5%89%8D%E8%99%95%E7%90%86/stopwords.txt')\n",
        "STOPWORDS = STOPWORDS.text.splitlines()"
      ],
      "execution_count": 0,
      "outputs": [
        {
          "output_type": "stream",
          "text": [
            "DEBUG:urllib3.connectionpool:Starting new HTTPS connection (1): raw.githubusercontent.com\n",
            "DEBUG:urllib3.connectionpool:https://raw.githubusercontent.com:443 \"GET /lopentu/BestPracticeInCorpusProgramming/master/%E8%AA%9E%E6%96%99%E5%BA%AB%E8%B3%87%E6%96%99%E5%89%8D%E8%99%95%E7%90%86/dict.txt.big HTTP/1.1\" 200 3033919\n",
            "DEBUG:jseg.jieba:loading default dictionary\n",
            "DEBUG:urllib3.connectionpool:Starting new HTTPS connection (1): raw.githubusercontent.com\n",
            "DEBUG:urllib3.connectionpool:https://raw.githubusercontent.com:443 \"GET /lopentu/BestPracticeInCorpusProgramming/master/%E8%AA%9E%E6%96%99%E5%BA%AB%E8%B3%87%E6%96%99%E5%89%8D%E8%99%95%E7%90%86/stopwords.txt HTTP/1.1\" 200 4200\n"
          ],
          "name": "stderr"
        }
      ]
    },
    {
      "metadata": {
        "id": "fGLD955pOHKK",
        "colab_type": "code",
        "colab": {}
      },
      "cell_type": "code",
      "source": [
        "def preprocess(song_dict_list, pos_tagging=True, remove_stopwords=True):\n",
        "  print(\"Starting...\")\n",
        "\n",
        "  completed = []\n",
        "  \n",
        "  regex = re.compile(rf\"[{hanzi.punctuation}{string.punctuation}]\")\n",
        "  for song in song_dict_list:\n",
        "    try:\n",
        "      title = song['title']\n",
        "      lyrics = song['lyrics']\n",
        "    except KeyError:\n",
        "      continue\n",
        "    # remove punctuation\n",
        "    no_punc = regex.sub(\"\", lyrics)\n",
        "    # remove newlines\n",
        "    no_newlines = no_punc.replace('\\n', '')\n",
        "    # remove other whitespace\n",
        "    no_whitespace = no_newlines.replace(' ', '')\n",
        "\n",
        "    if pos_tagging:\n",
        "      seg = j.seg(no_whitespace, pos=True)\n",
        "      if remove_stopwords:\n",
        "        no_stopwords = [(word, tag) for word, tag in seg if word not in STOPWORDS]\n",
        "        completed.append({\n",
        "            'time': song['time'],\n",
        "            'title': title,\n",
        "            'lyrics': no_stopwords\n",
        "        })\n",
        "      else:\n",
        "        completed.append({\n",
        "            'time': song['time'],\n",
        "            'title': title,\n",
        "            'lyrics': seg\n",
        "        })\n",
        "\n",
        "    else:\n",
        "      # returns a list instead of a generator\n",
        "      seg = j.seg(no_whitespace)\n",
        "      if remove_stopwords:\n",
        "        no_stopwords = [(word, tag) for word, tag in seg if word not in STOPWORDS]\n",
        "        completed.append({\n",
        "            'time': song['time'],\n",
        "            'title': title,\n",
        "            'lyrics': no_stopwords\n",
        "        })\n",
        "      else:\n",
        "        completed.append({\n",
        "            'time': song['time'],\n",
        "            'title': title,\n",
        "            'lyrics': seg\n",
        "        })\n",
        "  print('Completed!')\n",
        "    \n",
        "  return completed\n",
        "\n",
        "def save(song_dict_list, filename):\n",
        "  # save as JSON\n",
        "  with open(f'{filename}.json', 'w') as fp:\n",
        "    json.dump(song_dict_list, fp, ensure_ascii=False)\n",
        "  # save as CSV\n",
        "  with open(f'{filename}.csv', 'w') as fp:\n",
        "    dict_writer = csv.DictWriter(fp, ['title', 'time', 'lyrics'])\n",
        "    dict_writer.writeheader()\n",
        "    for d in song_dict_list:\n",
        "      dict_writer.writerow({\n",
        "          'title': d['title'],\n",
        "          'time': d['time'],\n",
        "          'lyrics': \" \".join(f'{token}/{tag}' for token, tag in (d['lyrics']))\n",
        "      })\n",
        "  # save as vertical plain text\n",
        "  with open(f'{filename}.vrt', 'w') as fp:\n",
        "    for d in song_dict_list:\n",
        "      lyrics = d['lyrics']\n",
        "      print('<s>', file=fp)\n",
        "      for token, tag in lyrics:\n",
        "        print(f'{token}\\t{tag}', file=fp)\n",
        "      print('</s>', file=fp)\n",
        "      \n",
        "  # save as plain text\n",
        "  with open(f'{filename}.txt', 'w') as fp:\n",
        "    for d in song_dict_list:\n",
        "      lyrics = d['lyrics']\n",
        "      lyrics = \" \".join((token for token, pos in lyrics))\n",
        "      print(lyrics, file=fp)"
      ],
      "execution_count": 0,
      "outputs": []
    },
    {
      "metadata": {
        "id": "E3Gy4fwWOQRp",
        "colab_type": "code",
        "outputId": "e0e684ae-b409-4751-98df-900e332ec653",
        "colab": {
          "base_uri": "https://localhost:8080/",
          "height": 52
        }
      },
      "cell_type": "code",
      "source": [
        "processed = preprocess(song_attrs)"
      ],
      "execution_count": 0,
      "outputs": [
        {
          "output_type": "stream",
          "text": [
            "Starting...\n",
            "Completed!\n"
          ],
          "name": "stdout"
        }
      ]
    },
    {
      "metadata": {
        "id": "ekcyoErU6onv",
        "colab_type": "code",
        "outputId": "3b1df9fc-ca48-4cb5-e6d9-c36125302074",
        "colab": {
          "base_uri": "https://localhost:8080/",
          "height": 52
        }
      },
      "cell_type": "code",
      "source": [
        "save(processed, 'lizongsheng')\n",
        "!ls"
      ],
      "execution_count": 0,
      "outputs": [
        {
          "output_type": "stream",
          "text": [
            "lizongsheng.csv   lizongsheng.txt  lyrics.json\n",
            "lizongsheng.json  lizongsheng.vrt  sample_data\n"
          ],
          "name": "stdout"
        }
      ]
    },
    {
      "metadata": {
        "id": "kyu8u5IPNG8n",
        "colab_type": "code",
        "colab": {}
      },
      "cell_type": "code",
      "source": [
        "files.download('lizongsheng.txt')"
      ],
      "execution_count": 0,
      "outputs": []
    },
    {
      "metadata": {
        "id": "ernpEddjOy6O",
        "colab_type": "text"
      },
      "cell_type": "markdown",
      "source": [
        "## **NLP-enhanced data processing**\n",
        "\n",
        "Stanford (Chinese) NLP\n",
        "\n",
        "- POS tagging\n",
        "- Dependency parsing\n",
        "- Named Entities Recognition (NER)\n",
        "- (Sentiment analysis)"
      ]
    },
    {
      "metadata": {
        "id": "5_j8vfS8l0BR",
        "colab_type": "text"
      },
      "cell_type": "markdown",
      "source": [
        "# Exploratory Corpus Data Analysis 語料探索分析"
      ]
    },
    {
      "metadata": {
        "id": "dlhavBbrl5Yp",
        "colab_type": "text"
      },
      "cell_type": "markdown",
      "source": [
        "Corpus Statistics and Visualization\n",
        "\n",
        "- Descriptive Statistics\n",
        "- Statistical Testing\n",
        "- Association and Productivity Measure\n",
        "- Multivaraite Statistics (Clustering)\n"
      ]
    },
    {
      "metadata": {
        "id": "H5aWYMn2N7aD",
        "colab_type": "code",
        "outputId": "5ae78dae-bebd-4299-8a4a-1046eb3f0f03",
        "colab": {
          "base_uri": "https://localhost:8080/",
          "height": 1207
        }
      },
      "cell_type": "code",
      "source": [
        "def plot_era(start='2000',end='2010'):\n",
        "  words=[]\n",
        "  for d in processed:\n",
        "    if d['time']>start and d['time']<end:\n",
        "      words+=d['lyrics']\n",
        "  fdist=nltk.FreqDist([w for w in words if w[0] in ['愛情','溫柔','我']])\n",
        "  print(fdist.most_common(5))\n",
        "  fdist.plot()\n",
        "\n",
        "plot_era(start='1980',end='1990')\n",
        "plot_era(start='1990',end='2000')\n",
        "plot_era(start='2000',end='2010')"
      ],
      "execution_count": 0,
      "outputs": [
        {
          "output_type": "stream",
          "text": [
            "[(('愛情', 'Nad'), 13), (('溫柔', 'NN'), 6)]\n"
          ],
          "name": "stdout"
        },
        {
          "output_type": "display_data",
          "data": {
            "image/png": "[encoded data removed]",
            "text/plain": [
              "<matplotlib.figure.Figure at 0x7ff583b91b38>"
            ]
          },
          "metadata": {
            "tags": []
          }
        },
        {
          "output_type": "stream",
          "text": [
            "[(('溫柔', 'NN'), 6), (('愛情', 'Nad'), 2)]\n"
          ],
          "name": "stdout"
        },
        {
          "output_type": "display_data",
          "data": {
            "image/png": "[encoded data removed]",
            "text/plain": [
              "<matplotlib.figure.Figure at 0x7ff583a38710>"
            ]
          },
          "metadata": {
            "tags": []
          }
        },
        {
          "output_type": "stream",
          "text": [
            "[(('愛情', 'Nad'), 24), (('溫柔', 'NN'), 8)]\n"
          ],
          "name": "stdout"
        },
        {
          "output_type": "display_data",
          "data": {
            "image/png": "[encoded data removed]",
            "text/plain": [
              "<matplotlib.figure.Figure at 0x7ff583a38c50>"
            ]
          },
          "metadata": {
            "tags": []
          }
        }
      ]
    },
    {
      "metadata": {
        "id": "vFfUo_9Il-Oi",
        "colab_type": "text"
      },
      "cell_type": "markdown",
      "source": [
        "> Use `panda` library to conduct **data manipulation**  (preparation, transformation, aggregation)\n",
        "\n",
        "> *Note*: exploratory *structured* vs *unstructured*  data analysis"
      ]
    },
    {
      "metadata": {
        "id": "DdckkT9zmAKT",
        "colab_type": "text"
      },
      "cell_type": "markdown",
      "source": [
        "### Corpus Data Summary, Query and Graphics\n",
        "\n",
        "- Corpus Basic statistics\n",
        "-  *Plot, Barplot, and Histograms* (check `Code snippets: Altair`) https://altair-viz.github.io/\n",
        "-  Visualization \n"
      ]
    },
    {
      "metadata": {
        "id": "U3cX501qmHPP",
        "colab_type": "text"
      },
      "cell_type": "markdown",
      "source": [
        "### Basic Corpus Statistics and Plot"
      ]
    },
    {
      "metadata": {
        "id": "GzsMCh0ZmO6a",
        "colab_type": "text"
      },
      "cell_type": "markdown",
      "source": [
        "### More text-oriented plot\n",
        "- *Dispersion* and *Strip charts*\n"
      ]
    },
    {
      "metadata": {
        "id": "_ohZXgm0mOsq",
        "colab_type": "code",
        "colab": {}
      },
      "cell_type": "code",
      "source": [
        "#code\n",
        "## for unstructured data"
      ],
      "execution_count": 0,
      "outputs": []
    },
    {
      "metadata": {
        "id": "_aaE_a_PmWo9",
        "colab_type": "text"
      },
      "cell_type": "markdown",
      "source": [
        "### Concordance"
      ]
    },
    {
      "metadata": {
        "id": "SKnwM7Q-mGWO",
        "colab_type": "code",
        "outputId": "d3c01d95-45b4-42fd-c47d-9a2f8b278457",
        "colab": {
          "base_uri": "https://localhost:8080/",
          "height": 132
        }
      },
      "cell_type": "code",
      "source": [
        "import nltk\n",
        "import jieba\n",
        "raw = open(....).read()\n",
        "corpus = nltk.Text(jieba.lcut(raw))\n",
        "corpus.concordance(u'愛', width = 40, lines = 15)"
      ],
      "execution_count": 0,
      "outputs": [
        {
          "output_type": "error",
          "ename": "SyntaxError",
          "evalue": "ignored",
          "traceback": [
            "\u001b[0;36m  File \u001b[0;32m\"<ipython-input-13-6eb7c26ddd1b>\"\u001b[0;36m, line \u001b[0;32m3\u001b[0m\n\u001b[0;31m    raw = open(....).read()\u001b[0m\n\u001b[0m                   ^\u001b[0m\n\u001b[0;31mSyntaxError\u001b[0m\u001b[0;31m:\u001b[0m invalid syntax\n"
          ]
        }
      ]
    },
    {
      "metadata": {
        "id": "B2IshuSfmfTc",
        "colab_type": "text"
      },
      "cell_type": "markdown",
      "source": [
        "### Visualization\n",
        "\n",
        "- *Word cloud*\n",
        "- *ScatterText*"
      ]
    },
    {
      "metadata": {
        "id": "XGFXYlPamjzA",
        "colab_type": "text"
      },
      "cell_type": "markdown",
      "source": [
        "#### Word Cloud"
      ]
    },
    {
      "metadata": {
        "id": "ZFfaxhXRmpUE",
        "colab_type": "text"
      },
      "cell_type": "markdown",
      "source": [
        "#### Scatter Text\n",
        "\n",
        "- a recent method to make legible, interactive scatter plots for text visualization [Jason S. Kessler ](https://github.com/JasonKessler)\n",
        "- Check the author's [Tutorial video](https://www.youtube.com/watch?v=H7X9CA2pWKo)"
      ]
    },
    {
      "metadata": {
        "id": "qeTElhVpmjlu",
        "colab_type": "code",
        "colab": {}
      },
      "cell_type": "code",
      "source": [
        "!pip install --upgrade scattertext\n",
        "import sys\n",
        "import pandas as pd\n",
        "import scattertext as st\n",
        "import numpy as np\n",
        "from IPython.display import IFrame\n",
        "from IPython.core.display import display, HTML\n",
        "display(HTML(\"<style>.container { width:98% !important; }</style>\"))"
      ],
      "execution_count": 0,
      "outputs": []
    },
    {
      "metadata": {
        "id": "6CJtsw9mmetV",
        "colab_type": "code",
        "colab": {}
      },
      "cell_type": "code",
      "source": [
        "from __future__ import print_function\n",
        "from scattertext import CorpusFromParsedDocuments\n",
        "from scattertext import chinese_nlp\n",
        "from scattertext import produce_scattertext_explorer"
      ],
      "execution_count": 0,
      "outputs": []
    },
    {
      "metadata": {
        "id": "s8FwpuQvl_yI",
        "colab_type": "code",
        "colab": {}
      },
      "cell_type": "code",
      "source": [
        "## compare chinese translations of tale of two cities and ulysses, from http://www.pku.edu.cn/study/novel/ulysses/cindex.htm\n",
        "\n",
        "df = pd.read_csv('https://cdn.rawgit.com/JasonKessler/scattertext/e508bf32/scattertext/data/chinese.csv')\n",
        "df['text'] = df['text'].apply(chinese_nlp)\n",
        "corpus = CorpusFromParsedDocuments(df,\n",
        "                                   category_col='novel',\n",
        "                                   parsed_col='text').build()\n",
        "html = produce_scattertext_explorer(corpus,\n",
        "                                    category='Tale of Two Cities',\n",
        "\t                                  category_name='Tale of Two Cities',\n",
        "\t                                  not_category_name='Ulysses',\n",
        "\t                                  width_in_pixels=1000,\n",
        "\t                                  metadata=df['novel'],\n",
        "\t                                  asian_mode=True)\n",
        "# open('./demo_chinese.html', 'w').write(html)\n",
        "# print('Open ./demo_chinese.html in Chrome or Firefox.')\n",
        "\n"
      ],
      "execution_count": 0,
      "outputs": []
    },
    {
      "metadata": {
        "id": "Ii0WVdGplx0g",
        "colab_type": "code",
        "colab": {}
      },
      "cell_type": "code",
      "source": [
        "display(HTML(html))"
      ],
      "execution_count": 0,
      "outputs": []
    },
    {
      "metadata": {
        "id": "ubckB9ORm_2T",
        "colab_type": "text"
      },
      "cell_type": "markdown",
      "source": [
        "### Clustering\n",
        "\n",
        "> Clustering is the task of organizing unlabelled objects in a way that objects in the same group are similar to each other and dissimilar to those in other groups. In other words, clustering is like *unsupervised classification* where the algorithm models the *similarities* instead of the boundaries.\n",
        "\n",
        "#### Basic notions\n",
        "\n",
        "- a **distance measure** to define whether or not two documents are similar.\n",
        "\n",
        "- a **criterion function** to compute the quality of our clusters, and \n",
        "\n",
        "- an algorithm to **optimize** this criterion."
      ]
    },
    {
      "metadata": {
        "id": "oG_PTEDBnFW_",
        "colab_type": "text"
      },
      "cell_type": "markdown",
      "source": [
        "#### Principal Component Analysis (PCA)"
      ]
    },
    {
      "metadata": {
        "id": "XBH8jlW7nGDr",
        "colab_type": "text"
      },
      "cell_type": "markdown",
      "source": [
        "#### t-SNE ( t-distributed stochastic neighbor embedding)\n",
        "\n",
        "- pretty useful when it comes to visualizing similarity between objects. It works by taking a group of high-dimensional (100 dimensions via Word2Vec) vocabulary word feature vectors, then compresses them down to 2-dimensional x,y coordinate pairs. \n",
        "\n",
        "- The idea is to keep similar words close together on the plane, while maximizing the distance between dissimilar words.\n",
        "\n",
        "- resolution of syntactic and semantic ambiguity (polysemy)"
      ]
    },
    {
      "metadata": {
        "id": "8BfErvL_nNNa",
        "colab_type": "text"
      },
      "cell_type": "markdown",
      "source": [
        "Steps\n",
        "\n",
        "- Clean the data\n",
        "- Build a corpus\n",
        "- Train a Word2Vec Model\n",
        "- Visualize t-SNE representations of the most common words"
      ]
    },
    {
      "metadata": {
        "id": "Qk57RscNl5HN",
        "colab_type": "code",
        "colab": {}
      },
      "cell_type": "code",
      "source": [
        "# import pandas as pd\n",
        "# pd.options.mode.chained_assignment = None \n",
        "# import numpy as np\n",
        "# import re\n",
        "# import nltk\n",
        "\n",
        "# from gensim.models import word2vec\n",
        "\n",
        "# from sklearn.manifold import TSNE\n",
        "# import matplotlib.pyplot as plt\n",
        "# %matplotlib inline\n"
      ],
      "execution_count": 0,
      "outputs": []
    },
    {
      "metadata": {
        "id": "o663TAdHnRxa",
        "colab_type": "code",
        "colab": {}
      },
      "cell_type": "code",
      "source": [
        "!pip install gensim\n",
        "import gensim\n",
        "%matplotlib notebook\n",
        "import numpy as np\n",
        "import matplotlib.pyplot as plt\n",
        "from sklearn.manifold import TSNE"
      ],
      "execution_count": 0,
      "outputs": []
    },
    {
      "metadata": {
        "id": "3d0FFi0InTr1",
        "colab_type": "code",
        "colab": {}
      },
      "cell_type": "code",
      "source": [
        "!wget -c \"https://s3.amazonaws.com/dl4j-distribution/GoogleNews-vectors-negative300.bin.gz\"\n",
        "model = gensim.models.KeyedVectors.load_word2vec_format('GoogleNews-vectors-negative300.bin.gz', binary=True)"
      ],
      "execution_count": 0,
      "outputs": []
    },
    {
      "metadata": {
        "id": "NdBMEaelnVf9",
        "colab_type": "code",
        "colab": {}
      },
      "cell_type": "code",
      "source": [
        "print(model['computer'])\n",
        "model.similar_by_word('computer')"
      ],
      "execution_count": 0,
      "outputs": []
    },
    {
      "metadata": {
        "id": "YJleV33nnXu9",
        "colab_type": "code",
        "colab": {}
      },
      "cell_type": "code",
      "source": [
        "model.wv['trump']\n"
      ],
      "execution_count": 0,
      "outputs": []
    },
    {
      "metadata": {
        "id": "EvoSHqHancLO",
        "colab_type": "text"
      },
      "cell_type": "markdown",
      "source": [
        "## Co-occurrence, Association and Productivity Measures\n",
        "\n",
        "- Co-occurrence is the simultaneous occurrence of *usually two* linguistic phenomena.\n",
        "\n",
        "- Finding lexical-grammatical patterns is useful both for linguistic and lexicographical studies.\n"
      ]
    },
    {
      "metadata": {
        "id": "Ls_K0lZ_nfjM",
        "colab_type": "code",
        "colab": {}
      },
      "cell_type": "code",
      "source": [
        ""
      ],
      "execution_count": 0,
      "outputs": []
    },
    {
      "metadata": {
        "id": "M4OnPJ9infuM",
        "colab_type": "text"
      },
      "cell_type": "markdown",
      "source": [
        "### Collocation 搭配現象\n",
        "\n",
        "- statistically significant co-occurrence of linguistic forms.\n",
        "\n",
        "> You shall know a word by the company it keeps (Firth, 1957).\n",
        "\n",
        "- lexical and grammatical collocations\n",
        "\n",
        "\n"
      ]
    },
    {
      "metadata": {
        "id": "PoEkVXOrnkxz",
        "colab_type": "text"
      },
      "cell_type": "markdown",
      "source": [
        "### Colligation\n",
        "- like collocation except that it has a grammatical component.\n"
      ]
    },
    {
      "metadata": {
        "id": "v7htJ4gWnmxO",
        "colab_type": "text"
      },
      "cell_type": "markdown",
      "source": [
        "### Collostruction\n",
        "\n",
        "three methods proposed by (Stefanowitsch and Gries)\n",
        "\n",
        "1. **Collexeme analysis** : measures the mutual attraction of lexemes and constructions.\n",
        "\n",
        "  - (Fisher's exact test; odds ratio, $G^2$, MI, $\\chi^2$)\n",
        "\n",
        "2. Distinctive collexeme analysis\n",
        "  \n",
        "   - (Fisher's exact test, $G^2$) \n",
        "\n",
        "3. Co-varying collexeme analysis\n",
        "\n",
        "  - (Fisher's exact test, odds ration, $G^2$)"
      ]
    },
    {
      "metadata": {
        "id": "a1EqiDRSnpHI",
        "colab_type": "text"
      },
      "cell_type": "markdown",
      "source": [
        "## Association Measures\n",
        "\n",
        "- measure the significant co-occurrences (between two units) on the basis of *contingency table*:  (¬ means “other than”)\n",
        "\n",
        "\n",
        "\n",
        "Age           | W2  | ¬ W2 | row totals\n",
        "--------------|:-----:|-----:| ----:|------------------------\n",
        "W1    | a |  b |    a+b \n",
        " ¬ W1  | c |  d |  c+d\n",
        "column totals  | a+c | b+d |  a+b+c+d \n",
        "\n",
        "\n",
        "Cell a denotes the number of times W1 and W2 co-occur, cell b the number of times W1 co-occurs with words other than W2, cell c the number of times W2 co-occurs with words other than W1, and cell d the number of times that words other than W1 and W2 co-occur.\n",
        "\n",
        "\n",
        "\n"
      ]
    },
    {
      "metadata": {
        "id": "SKQRCV_Z8qjW",
        "colab_type": "text"
      },
      "cell_type": "markdown",
      "source": [
        "### Four popular association measures\n",
        "\n",
        "-  Mutual information\n",
        "- Fisher's exact test\n",
        "- The $\\chi^2$ test \n",
        "- The log-likelihood ration test"
      ]
    },
    {
      "metadata": {
        "id": "L6V88H-S9cBM",
        "colab_type": "text"
      },
      "cell_type": "markdown",
      "source": [
        "##### Mutual Information\n",
        "\n",
        "Church and Hanks (1990, p. 23) define $I(W1,W2)$, the mutual information $\\mathcal{I}$ of two words W1 and W2, as\n",
        "follows:\n",
        "\n",
        "$\n",
        "I (W_{1}, W_{2}) = log_{2}\\frac{P(W_{1}, W_{2})}{P(W_{1})P(W_{2})}$\n",
        "\n",
        "\n"
      ]
    },
    {
      "metadata": {
        "id": "3HtJQ9iXnsmH",
        "colab_type": "text"
      },
      "cell_type": "markdown",
      "source": [
        "### Lexical Richness and Productivity\n",
        "\n",
        "- Types, Tokens, and TTR (type-token ratio)\n",
        "- Vocabulary Graowth Curve\n",
        "\n",
        "\n",
        "\n",
        "\n",
        "\n",
        "\n"
      ]
    },
    {
      "metadata": {
        "id": "zNbPU3JanvTg",
        "colab_type": "text"
      },
      "cell_type": "markdown",
      "source": [
        "# Corpus Annotation and Analysis 語料標記分析"
      ]
    },
    {
      "metadata": {
        "id": "NpDlONyYnxr3",
        "colab_type": "text"
      },
      "cell_type": "markdown",
      "source": [
        "- Data is often annotated using both automatic taggers/parsers and a growing set of manual annotation tools (e.g. EXMARaLDA, ELAN, annotate/Synpathy, MMAX, RSTTool, Arborator, WebAnno, Atomic), \n",
        "- E.g, ANNIS provides the means for visualizing and retrieving this data. Pepper is used to import the multiple annotation formats into ANNIS."
      ]
    },
    {
      "metadata": {
        "id": "xLM3_vrDn6vs",
        "colab_type": "text"
      },
      "cell_type": "markdown",
      "source": [
        "![ANNIS](http://corpus-tools.org/annis/images/annis3_full.png)"
      ]
    },
    {
      "metadata": {
        "id": "iyAtdRFXn_ib",
        "colab_type": "text"
      },
      "cell_type": "markdown",
      "source": [
        "easier version: ![WebAnno](https://webanno.github.io/webanno/assets/img/logo.png)"
      ]
    },
    {
      "metadata": {
        "id": "-By5e1mYoJVM",
        "colab_type": "text"
      },
      "cell_type": "markdown",
      "source": [
        "![Annotation is a process](https://webanno.github.io/webanno/releases/3.4.6/docs/user-guide/images/progress_workflow.jpg)"
      ]
    },
    {
      "metadata": {
        "id": "YCm2s4gWoNV2",
        "colab_type": "text"
      },
      "cell_type": "markdown",
      "source": [
        "## `WebAnno` annotation practice\n",
        "\n",
        "> WebAnno (Eckart de Castilho, R. et al. 2016) is a general purpose web-based annotation tool for a wide range of linguistic annotations including various layers of morphological, syntactical, and semantic annotations. Additionaly, custom annotation layers can be defined, allowing WebAnno to be used also for non-linguistic annotation tasks."
      ]
    },
    {
      "metadata": {
        "id": "82yVx8sBoQVw",
        "colab_type": "text"
      },
      "cell_type": "markdown",
      "source": [
        "### Sentiment and Emotion Annotation\n",
        "\n",
        "- Sentiment Polarity annotation\n",
        "- Emotion annotation `REMAN corpus (Relational EMotion ANnotation)`(Kim et al. 2018)\n"
      ]
    },
    {
      "metadata": {
        "id": "ixeobj0doSQ0",
        "colab_type": "text"
      },
      "cell_type": "markdown",
      "source": [
        "\n",
        "## Using WebAnno\n",
        "\n",
        "- Register [WebAnno.LOPE](http://140.112.147.121:8080) or \n",
        "- Install [`Docker`](https://docs.docker.com/) and run the [Webanno](https://webanno.github.io/webanno/releases/3.4.7/docs/user-guide.html#_run_using_docker) locally"
      ]
    },
    {
      "metadata": {
        "id": "_A7qkZrGoVcl",
        "colab_type": "text"
      },
      "cell_type": "markdown",
      "source": [
        "#Applications 應用"
      ]
    },
    {
      "metadata": {
        "id": "5n1SnP89oaIz",
        "colab_type": "text"
      },
      "cell_type": "markdown",
      "source": [
        "### Sentiment Analysis / Emotion detection"
      ]
    },
    {
      "metadata": {
        "id": "uWHdQdfNob4b",
        "colab_type": "text"
      },
      "cell_type": "markdown",
      "source": [
        "### Lyrics generation"
      ]
    },
    {
      "metadata": {
        "id": "-T30iL3poi7V",
        "colab_type": "text"
      },
      "cell_type": "markdown",
      "source": [
        "-  Use LSTM (Long Short Term Memory) neural network, to avoid the long-term dependency problem. \n",
        "\n",
        "- [中文歌詞產生器示例](http://140.112.147.125:5000/)\n",
        "\n",
        "\n"
      ]
    },
    {
      "metadata": {
        "id": "D4FBvS-foX4D",
        "colab_type": "text"
      },
      "cell_type": "markdown",
      "source": [
        "## Exercise.1 標記與分析練習\n",
        "\n",
        "- 利用 `webanno` 標記下載歌詞的情緒極度（正、負、中性）\n",
        "- 比較之前基於情緒辭典預測器的正確率"
      ]
    },
    {
      "metadata": {
        "id": "zAczc8NOohZM",
        "colab_type": "text"
      },
      "cell_type": "markdown",
      "source": [
        "# COPENS 開放語料庫計畫"
      ]
    },
    {
      "metadata": {
        "id": "G0WI0AEvonnK",
        "colab_type": "text"
      },
      "cell_type": "markdown",
      "source": [
        "- Goals\n",
        "\n",
        "    - Corpus as Human-Machine collaboration interface人機協作、學習與互惠\n",
        "    - Open data and source \n",
        "\n",
        "- Corpus Query Language 教學: COPENS:: LYRICS 歌詞語料庫為例\n",
        "    - [Basics](https://www.sketchengine.eu/documentation/cql-basics/)  \n",
        "    \n",
        "    - [Compare](https://www.sketchengine.eu/documentation/corpus-querying/)\n",
        "\n"
      ]
    },
    {
      "metadata": {
        "id": "VRHsc3f-rf_V",
        "colab_type": "text"
      },
      "cell_type": "markdown",
      "source": [
        "## Corpus  Query Language\n",
        "\n",
        "- 先要了解 `lemma`, `word`, `pos`, 以及一點 `regular expression`\n",
        "\n",
        "- [中研院詞類標記集](http://ckipsvr.iis.sinica.edu.tw/papers/category_list.pdf) , [簡化詞類](http://ckipsvr.iis.sinica.edu.tw/), \n",
        "\n",
        "\n",
        "![很貴的書](https://images.tandf.co.uk/common/jackets/agentjpg/978113894/9781138949447.jpg)\n"
      ]
    },
    {
      "metadata": {
        "id": "ecbOPvtFsTZX",
        "colab_type": "text"
      },
      "cell_type": "markdown",
      "source": [
        "### Some examples\n",
        "\n",
        "- `[word = \"下雨\"]`\n",
        "- `[tag = \"Di\"]`\n",
        "- Regular expressions can be used with CQL. e.g., \n",
        "`[word=\".*念\"]`\n"
      ]
    },
    {
      "metadata": {
        "id": "Srp9zQU_op8e",
        "colab_type": "text"
      },
      "cell_type": "markdown",
      "source": [
        "## Exercise.2 搜尋練習"
      ]
    },
    {
      "metadata": {
        "id": "aCuV4LM2osdV",
        "colab_type": "text"
      },
      "cell_type": "markdown",
      "source": [
        "- Upload your own lyrics corpus to `COPENS`\n",
        "- Search terms with `CQL`"
      ]
    },
    {
      "metadata": {
        "id": "JxYxWX28owUW",
        "colab_type": "text"
      },
      "cell_type": "markdown",
      "source": [
        "# Reference\n",
        "\n",
        "- Evgeny Kim and Roman Klinger. Who Feels What and Why? Annotation of a Literature Corpus with Semantic Roles of Emotions. In Proceedings of COLING 2018, the 27th International Conference on Computational Linguistics, Santa Fe, USA, August 2018."
      ]
    }
  ]
}