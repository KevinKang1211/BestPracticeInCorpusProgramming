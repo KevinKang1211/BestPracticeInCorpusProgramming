{
 "cells": [
  {
   "cell_type": "markdown",
   "metadata": {},
   "source": [
    "### 流程\n",
    "1. 蒐集 **即時 > 最新** 所有當日新聞連結\n",
    "1. 蒐集所有連結的內容並轉存為結構化的資料\n",
    "1. 將結構化的資料輸出成檔案"
   ]
  },
  {
   "cell_type": "markdown",
   "metadata": {},
   "source": [
    "事前準備"
   ]
  },
  {
   "cell_type": "code",
   "execution_count": 1,
   "metadata": {},
   "outputs": [],
   "source": [
    "from datetime import datetime\n",
    "from time import sleep\n",
    "from random import random\n",
    "\n",
    "from requests import Session\n",
    "from bs4 import BeautifulSoup\n",
    "\n",
    "session = Session()\n",
    "session.headers['User-Agent'] = 'Mozilla/5.0 (Windows NT 10.0; Win64; x64) AppleWebKit/537.36 (KHTML, like Gecko) Chrome/69.0.3497.100 Safari/537.36'"
   ]
  },
  {
   "cell_type": "markdown",
   "metadata": {},
   "source": [
    "### 蒐集連結"
   ]
  },
  {
   "cell_type": "code",
   "execution_count": 2,
   "metadata": {},
   "outputs": [],
   "source": [
    "base_url = 'https://tw.appledaily.com/new/realtime/{page}'\n",
    "page = 1\n",
    "links = []\n",
    "current_date = datetime.now().date()"
   ]
  },
  {
   "cell_type": "markdown",
   "metadata": {},
   "source": [
    "遞迴找出所有連結"
   ]
  },
  {
   "cell_type": "code",
   "execution_count": 3,
   "metadata": {},
   "outputs": [
    {
     "name": "stdout",
     "output_type": "stream",
     "text": [
      "已經爬到第1頁面\n",
      "已經爬到第2頁面\n",
      "已經爬到第3頁面\n",
      "已經爬到第4頁面\n"
     ]
    }
   ],
   "source": [
    "while True:\n",
    "    url = base_url.format(page=page)\n",
    "    response = session.get(url)\n",
    "    print(f'已經爬到第{page}頁面')\n",
    "    dom = BeautifulSoup(response.text)\n",
    "    raw_time = dom.select('h1.dddd > time')[0].text\n",
    "    date = datetime.strptime(raw_time, '%Y / %m / %d').date()\n",
    "    if date < current_date:\n",
    "        break\n",
    "    elements = dom.select('h1.dddd + ul.rtddd > li')\n",
    "    for element in elements:\n",
    "        link = element.select('a')[0]['href'] \n",
    "        links.append(link)\n",
    "    sleep(random() * 5)\n",
    "    page += 1"
   ]
  },
  {
   "cell_type": "markdown",
   "metadata": {},
   "source": [
    "### 蒐集內容"
   ]
  },
  {
   "cell_type": "code",
   "execution_count": 4,
   "metadata": {},
   "outputs": [
    {
     "name": "stdout",
     "output_type": "stream",
     "text": [
      "還剩下90個頁面\n",
      "還剩下89個頁面\n",
      "還剩下88個頁面\n",
      "還剩下87個頁面\n",
      "還剩下86個頁面\n",
      "還剩下85個頁面\n",
      "還剩下84個頁面\n",
      "還剩下83個頁面\n",
      "還剩下82個頁面\n",
      "還剩下81個頁面\n",
      "還剩下80個頁面\n",
      "還剩下79個頁面\n",
      "還剩下78個頁面\n",
      "還剩下77個頁面\n",
      "還剩下76個頁面\n",
      "還剩下75個頁面\n",
      "還剩下74個頁面\n",
      "還剩下73個頁面\n",
      "還剩下72個頁面\n",
      "還剩下71個頁面\n",
      "還剩下70個頁面\n",
      "還剩下69個頁面\n",
      "還剩下68個頁面\n",
      "還剩下67個頁面\n",
      "還剩下66個頁面\n",
      "還剩下65個頁面\n",
      "還剩下64個頁面\n",
      "還剩下63個頁面\n",
      "還剩下62個頁面\n",
      "還剩下61個頁面\n",
      "還剩下60個頁面\n",
      "還剩下59個頁面\n",
      "還剩下58個頁面\n",
      "還剩下57個頁面\n",
      "還剩下56個頁面\n",
      "還剩下55個頁面\n",
      "還剩下54個頁面\n",
      "還剩下53個頁面\n",
      "還剩下52個頁面\n",
      "還剩下51個頁面\n",
      "還剩下50個頁面\n",
      "還剩下49個頁面\n",
      "還剩下48個頁面\n",
      "還剩下47個頁面\n",
      "還剩下46個頁面\n",
      "還剩下45個頁面\n",
      "還剩下44個頁面\n",
      "還剩下43個頁面\n",
      "還剩下42個頁面\n",
      "還剩下41個頁面\n",
      "還剩下40個頁面\n",
      "還剩下39個頁面\n",
      "還剩下38個頁面\n",
      "還剩下37個頁面\n",
      "還剩下36個頁面\n",
      "還剩下35個頁面\n",
      "還剩下34個頁面\n",
      "還剩下33個頁面\n",
      "還剩下32個頁面\n",
      "還剩下31個頁面\n",
      "還剩下30個頁面\n",
      "還剩下29個頁面\n",
      "還剩下28個頁面\n",
      "還剩下27個頁面\n",
      "還剩下26個頁面\n",
      "還剩下25個頁面\n",
      "還剩下24個頁面\n",
      "還剩下23個頁面\n",
      "還剩下22個頁面\n",
      "還剩下21個頁面\n",
      "還剩下20個頁面\n",
      "還剩下19個頁面\n",
      "還剩下18個頁面\n",
      "還剩下17個頁面\n",
      "還剩下16個頁面\n",
      "還剩下15個頁面\n",
      "還剩下14個頁面\n",
      "還剩下13個頁面\n",
      "還剩下12個頁面\n",
      "還剩下11個頁面\n",
      "還剩下10個頁面\n",
      "還剩下9個頁面\n",
      "還剩下8個頁面\n",
      "還剩下7個頁面\n",
      "還剩下6個頁面\n",
      "還剩下5個頁面\n",
      "還剩下4個頁面\n",
      "還剩下3個頁面\n",
      "還剩下2個頁面\n",
      "還剩下1個頁面\n"
     ]
    }
   ],
   "source": [
    "htmls = []\n",
    "for num, link in enumerate(links):\n",
    "    print(f'還剩下{len(links) - num}個頁面')\n",
    "    response = session.get(link)\n",
    "    htmls.append(response.text)\n",
    "    sleep(random() * 5)"
   ]
  },
  {
   "cell_type": "markdown",
   "metadata": {},
   "source": [
    "元素定位與將資料結構化"
   ]
  },
  {
   "cell_type": "code",
   "execution_count": 5,
   "metadata": {},
   "outputs": [],
   "source": [
    "posts = []\n",
    "for html in htmls:\n",
    "    dom = BeautifulSoup(html)\n",
    "    title = dom.select('article.ndArticle_leftColumn h1')[0].text\n",
    "    created_time = dom.select('article.ndArticle_leftColumn div.ndArticle_creat')[0].text\n",
    "    category = dom.select('nav div.ndgTag a.current')[0].text\n",
    "    content = dom.select('article.ndArticle_content p')[0].text\n",
    "    post = dict(title=title, created_time=created_time, category=category, content=content)\n",
    "    posts.append(post)"
   ]
  },
  {
   "cell_type": "markdown",
   "metadata": {},
   "source": [
    "### 輸出檔案"
   ]
  },
  {
   "cell_type": "code",
   "execution_count": 7,
   "metadata": {},
   "outputs": [],
   "source": [
    "import json\n",
    "\n",
    "with open('appledaily.json', 'w') as f:\n",
    "    json.dump(posts, f, ensure_ascii=False, indent=2)"
   ]
  }
 ],
 "metadata": {
  "kernelspec": {
   "display_name": "Python 3",
   "language": "python",
   "name": "python3"
  },
  "language_info": {
   "codemirror_mode": {
    "name": "ipython",
    "version": 3
   },
   "file_extension": ".py",
   "mimetype": "text/x-python",
   "name": "python",
   "nbconvert_exporter": "python",
   "pygments_lexer": "ipython3",
   "version": "3.7.0"
  }
 },
 "nbformat": 4,
 "nbformat_minor": 2
}
