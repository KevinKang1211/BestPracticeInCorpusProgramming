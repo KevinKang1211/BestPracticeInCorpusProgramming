{
 "cells": [
  {
   "cell_type": "code",
   "execution_count": null,
   "metadata": {
    "collapsed": true
   },
   "outputs": [],
   "source": [
    "# 找出檔案路徑\n",
    "import glob\n",
    "\n",
    "files = glob.glob(\"data/*.json\")\n",
    "with open(files[0],\"r\",encoding=\"utf-8\") as I:\n",
    "    data = I.read()"
   ]
  },
  {
   "cell_type": "code",
   "execution_count": null,
   "metadata": {},
   "outputs": [],
   "source": [
    "#解析資料格式\n",
    "import json\n",
    "\n",
    "nested = json.loads(data)\n",
    "print(nested)\n",
    "print(len(nested))"
   ]
  },
  {
   "cell_type": "code",
   "execution_count": null,
   "metadata": {},
   "outputs": [],
   "source": [
    "#中文斷詞\n",
    "import jieba\n",
    "\n",
    "sentence = \"台鐵總體檢，蔡英文強調改革沒有上限\"\n",
    "words = jieba.cut(sentence)\n",
    "print(\" \".join(words))"
   ]
  },
  {
   "cell_type": "code",
   "execution_count": null,
   "metadata": {},
   "outputs": [],
   "source": [
    "#選遠繁體詞庫\n",
    "import jieba\n",
    "\n",
    "jieba.set_dictionary('dict.txt.big')\n",
    "\n",
    "sentence = \"台鐵總體檢，蔡英文強調改革沒有上限\"\n",
    "words = jieba.cut(sentence)\n",
    "print(\" \".join(words))"
   ]
  },
  {
   "cell_type": "code",
   "execution_count": null,
   "metadata": {},
   "outputs": [],
   "source": [
    "#載入自訂義詞庫\n",
    "import jieba\n",
    "\n",
    "jieba.set_dictionary('dict.txt.big')\n",
    "jieba.load_userdict(\"userdict.txt\")\n",
    "\n",
    "sentence = \"台鐵總體檢，蔡英文強調改革沒有上限\"\n",
    "words = jieba.cut(sentence)\n",
    "print(\" \".join(words))"
   ]
  },
  {
   "cell_type": "code",
   "execution_count": null,
   "metadata": {},
   "outputs": [],
   "source": [
    "# 對wiki API發出請求\n",
    "import requests\n",
    "url = \"https://zh.wikipedia.org/w/api.php\"\n",
    "params = {\n",
    "    \"action\":\"query\",\n",
    "    \"list\":\"search\", \n",
    "    \"format\":\"json\",\n",
    "    \"srsearch\":\"incategory:your_category\",\n",
    "    \"srlimit\":\"500\",\n",
    "    \"srprop\":\"size\"\n",
    "}\n",
    "res = requests.get(url, params=params)\n",
    "nested = res.json()\n",
    "nested"
   ]
  },
  {
   "cell_type": "code",
   "execution_count": null,
   "metadata": {
    "collapsed": true
   },
   "outputs": [],
   "source": [
    "text=\"\"\"\n",
    "這也太尷尬了！學弟顯然不太給學長面子！ 有網友分享，民進黨高雄市長候選人陳其邁，近來回到母校高雄中學參加校運會，但上台致詞時，學弟們似乎認為「政治不該進入校園」，因而故意擺了老學長一道！ 學弟們在陳其邁問「聽得懂我在講甚麼嘛？」，就先故意回「不懂～」。後陳其邁看似發言結束，說出「祝福大家！加油！」但學弟們就開始鼓譟大喊「韓國瑜加油、韓國瑜凍蒜！」 不少網友也紛紛在YouTube下留言「學弟們幹的好~ 我記得我們以前碰上這種事就是拚命噓台上的政治人物 噓到他們草草結束發言」、「這群雄中的孩子居然敢這樣對待老學長如此，這真的是……………太棒了！！」、「個人觀點: 這群雄中學生不見得真的支持韓國瑜 而且他們也還沒有投票權 他們只是為了表達對政治人物染指校園」。\n",
    "\"\"\"\n",
    "# 去除停止詞\n",
    "import json\n",
    "import jieba\n",
    "import re\n",
    "\n",
    "jieba.set_dictionary('dict.txt.big')\n",
    "jieba.load_userdict(\"userdict.txt\")\n",
    "with open(\"stopwords.txt\",  encoding=\"utf-8\") as I:\n",
    "    stopwords = [word.strip() for word in I]"
   ]
  },
  {
   "cell_type": "code",
   "execution_count": null,
   "metadata": {},
   "outputs": [],
   "source": [
    "# 利用re挑出記者名稱\n",
    "import re\n",
    "text = \"國民黨能注入新生力量。（林媛玲／台北報導）\"\n",
    "pattern = re.findall(\"（.+／.+報導）\",  text)"
   ]
  },
  {
   "cell_type": "code",
   "execution_count": null,
   "metadata": {
    "collapsed": true
   },
   "outputs": [],
   "source": [
    "# 括號細部挑選\n",
    "sub_pattern = re.findall(\"（(.+)／.+報導）\",  text)"
   ]
  },
  {
   "cell_type": "code",
   "execution_count": null,
   "metadata": {},
   "outputs": [],
   "source": [
    "#詞頻分析\n",
    "import jieba\n",
    "from collections import Counter\n",
    "\n",
    "jieba.set_dictionary('dict.txt.big')\n",
    "jieba.load_userdict(\"userdict.txt\")\n",
    "\n",
    "text=\"這也太尷尬了！學弟顯然不太給學長面子！ 有網友分享，民進黨高雄市長候選人陳其邁，近來回到母校高雄中學參加校運會，但上台致詞時，學弟們似乎認為「政治不該進入校園」，因而故意擺了老學長一道！ 學弟們在陳其邁問「聽得懂我在講甚麼嘛？」，就先故意回「不懂～」。後陳其邁看似發言結束，說出「祝福大家！加油！」但學弟們就開始鼓譟大喊「韓國瑜加油、韓國瑜凍蒜！」 不少網友也紛紛在YouTube下留言「學弟們幹的好~ 我記得我們以前碰上這種事就是拚命噓台上的政治人物 噓到他們草草結束發言」、「這群雄中的孩子居然敢這樣對待老學長如此，這真的是……………太棒了！！」、「個人觀點: 這群雄中學生不見得真的支持韓國瑜 而且他們也還沒有投票權 他們只是為了表達對政治人物染指校園」。 \"\n",
    "words = jieba.cut(text)\n",
    "\n",
    "c = Counter(words)\n",
    "c.most_common(10)"
   ]
  },
  {
   "cell_type": "code",
   "execution_count": null,
   "metadata": {},
   "outputs": [],
   "source": [
    "#去除停止詞\n",
    "import jieba\n",
    "from collections import Counter\n",
    "\n",
    "jieba.set_dictionary('dict.txt.big')\n",
    "jieba.load_userdict(\"userdict.txt\")\n",
    "\n",
    "text=\"這也太尷尬了！學弟顯然不太給學長面子！ 有網友分享，民進黨高雄市長候選人陳其邁，近來回到母校高雄中學參加校運會，但上台致詞時，學弟們似乎認為「政治不該進入校園」，因而故意擺了老學長一道！ 學弟們在陳其邁問「聽得懂我在講甚麼嘛？」，就先故意回「不懂～」。後陳其邁看似發言結束，說出「祝福大家！加油！」但學弟們就開始鼓譟大喊「韓國瑜加油、韓國瑜凍蒜！」 不少網友也紛紛在YouTube下留言「學弟們幹的好~ 我記得我們以前碰上這種事就是拚命噓台上的政治人物 噓到他們草草結束發言」、「這群雄中的孩子居然敢這樣對待老學長如此，這真的是……………太棒了！！」、「個人觀點: 這群雄中學生不見得真的支持韓國瑜 而且他們也還沒有投票權 他們只是為了表達對政治人物染指校園」。 \"\n",
    "words = jieba.cut(text)\n",
    "\n",
    "with open(\"stopwords.txt\",  encoding=\"utf-8\") as I:\n",
    "    stopwords = [word.strip() for word in I]\n",
    "\n",
    "c=Counter([word for word in words if word not in stopwords])\n",
    "c.most_common(10)"
   ]
  },
  {
   "cell_type": "code",
   "execution_count": null,
   "metadata": {},
   "outputs": [],
   "source": [
    "# 檢視資料\n",
    "import json\n",
    "\n",
    "with open(\"data/han.json\", \"r\", encoding=\"utf-8\") as I:\n",
    "    data = I.read()\n",
    "    nested = json.loads(data)\n",
    "    for item in nested:\n",
    "        print(item[\"content\"])\n",
    "        print(\"\\n\")"
   ]
  },
  {
   "cell_type": "code",
   "execution_count": null,
   "metadata": {
    "scrolled": true
   },
   "outputs": [],
   "source": [
    "# 資料清理\n",
    "import json\n",
    "import jieba\n",
    "import re\n",
    "\n",
    "jieba.set_dictionary('dict.txt.big')\n",
    "jieba.load_userdict(\"userdict.txt\")\n",
    "with open(\"stopwords.txt\",  encoding=\"utf-8\") as I:\n",
    "    stopwords = [word.strip() for word in I]\n",
    "\n",
    "result = set()\n",
    "with open(f,\"r\",encoding=\"utf-8\") as I:\n",
    "    data = I.read()\n",
    "    nested = json.loads(data)\n",
    "    for item in nested:\n",
    "        content = re.sub(\"更新：新增動新聞\", \"\", item[\"content\"])\n",
    "        content = re.sub(\"看本篇完整版內容，請點以下連結\",\"\", content)\n",
    "        content = re.sub(\"(點我看全文).+\",\"\", content)\n",
    "        content = re.sub(\"【即時論壇徵稿】.+\",\"\", content)\n",
    "        content = re.sub(\"【.+報導】\", \"\", content)\n",
    "        content = re.sub(\"[(（](?:.(?!）))*?報導[）)].*\", \"\", content)\n",
    "        if content in result or content == \"\":\n",
    "            continue\n",
    "        result.add(content)\n",
    "        print(content)\n",
    "        words = jieba.cut(content)\n",
    "        words = [word for word in words if word not in stopwords]\n",
    "        item[\"cln_content\"] = \" \".join(words)\n",
    "            "
   ]
  },
  {
   "cell_type": "code",
   "execution_count": null,
   "metadata": {
    "collapsed": true
   },
   "outputs": [],
   "source": [
    "#寫入檔案\n",
    "import json\n",
    "\n",
    "with open(\"data/clean_han.json\", \"w\", encoding=\"utf-8\") as O:\n",
    "    json.dump(output, O, indent=4, ensure_ascii=False)"
   ]
  }
 ],
 "metadata": {
  "kernelspec": {
   "display_name": "Python 3",
   "language": "python",
   "name": "python3"
  },
  "language_info": {
   "codemirror_mode": {
    "name": "ipython",
    "version": 3
   },
   "file_extension": ".py",
   "mimetype": "text/x-python",
   "name": "python",
   "nbconvert_exporter": "python",
   "pygments_lexer": "ipython3",
   "version": "3.6.3"
  }
 },
 "nbformat": 4,
 "nbformat_minor": 2
}
